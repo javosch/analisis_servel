{
 "cells": [
  {
   "cell_type": "markdown",
   "metadata": {},
   "source": [
    "# Data Wrangling Proyecto Constituyentes\n",
    "\n",
    "La extracción de los datos de desde el servel se puede encontrar <a href=\"https://github.com/javosch/servel_scraping\">aqui</a>.<br>\n",
    "Los datos de los distritos fueron extraidos a través de <a href=\"https://wikitable2csv.ggor.de/\">WikiTables to CSV</a> del sitio de <a href=\"https://es.wikipedia.org/wiki/Divisi%C3%B3n_electoral_de_Chile\">Division Electoral de Chile</a> en Wikipedia que a su vez está reespaldado por las respectivas notas al pie de página.<br>\n",
    "<br>\n",
    "*Aqui no se incluyen los 17 escaños para pueblos originarios: 7 para el pueblo mapuche, 2 para el pueblo aimara y uno para cada uno de los pueblos restantes; quechua, atacameño, colla, diaguita, kawésqar, yagán, chango y rapanui."
   ]
  },
  {
   "cell_type": "code",
   "execution_count": 21,
   "metadata": {},
   "outputs": [],
   "source": [
    "import pandas as pd\n",
    "import numpy as np\n",
    "\n",
    "pd.set_option('display.max_rows', 15)"
   ]
  },
  {
   "cell_type": "code",
   "execution_count": 2,
   "metadata": {},
   "outputs": [],
   "source": [
    "path = '/home/anonimo/Documentos/servel/'\n",
    "file1 = 'servel'\n",
    "file2 = 'distritos_constituyente'"
   ]
  },
  {
   "cell_type": "markdown",
   "metadata": {},
   "source": [
    "### Normalizar ambas tablas\n",
    "\n",
    "Quitar acentos y aplicar mayúsculas a las columnas de comunas. Ademas reemplazar aquellos errores que se encuentren."
   ]
  },
  {
   "cell_type": "code",
   "execution_count": 3,
   "metadata": {},
   "outputs": [],
   "source": [
    "df_distritos = pd.read_csv(path+file2+'.csv')\n",
    "df_servel = pd.read_csv(path+file1+'.csv')\n",
    "df_distritos['Comunas'] = df_distritos['Comunas'].apply(lambda x: x.upper())\n",
    "df_distritos['Comunas'] = df_distritos['Comunas'].str.normalize('NFKD').str.encode('ascii', errors='ignore').str.decode('utf-8')\n",
    "df_servel.columns = ['Comunas'] + list(df_servel.columns[1:])\n",
    "df_servel['Comunas'] = df_servel['Comunas'].str.normalize('NFKD').str.encode('ascii', errors='ignore').str.decode('utf-8')"
   ]
  },
  {
   "cell_type": "code",
   "execution_count": 4,
   "metadata": {},
   "outputs": [],
   "source": [
    "servel_comunas = list(df_servel['Comunas'])"
   ]
  },
  {
   "cell_type": "code",
   "execution_count": 5,
   "metadata": {},
   "outputs": [
    {
     "data": {
      "text/plain": [
       "['LA CALERA', 'TREGUACO', \"O'HIGGINS\", 'CABO DE HORNOS']"
      ]
     },
     "execution_count": 5,
     "metadata": {},
     "output_type": "execute_result"
    }
   ],
   "source": [
    "faltantes = list(df_distritos[~df_distritos['Comunas'].isin(servel_comunas)]['Comunas'])\n",
    "faltantes"
   ]
  },
  {
   "cell_type": "markdown",
   "metadata": {},
   "source": [
    "Quedan 4 sin reemplazar. Reemplazo manual...\n",
    "\n",
    "Según [Municipalidad de Trehuaco](#https://www.trehuaco.com/Wordpress/) es con \"H\" y no con \"G\"."
   ]
  },
  {
   "cell_type": "code",
   "execution_count": 6,
   "metadata": {},
   "outputs": [],
   "source": [
    "cambios_servel = ['CALERA', 'CABO DE HORNOS(EX-NAVARINO)']\n",
    "df_servel['Comunas'] = df_servel['Comunas'].replace(cambios_servel, ['LA CALERA', 'CABO DE HORNOS'])"
   ]
  },
  {
   "cell_type": "code",
   "execution_count": 7,
   "metadata": {},
   "outputs": [],
   "source": [
    "cambios_distritos = ['TREGUACO', \"O'HIGGINS\"]\n",
    "df_distritos['Comunas'] = df_distritos['Comunas'].replace(cambios_distritos, ['TREHUACO', 'OHIGGINS'])"
   ]
  },
  {
   "cell_type": "markdown",
   "metadata": {},
   "source": [
    "Comprobación de que hayan sido corregidos"
   ]
  },
  {
   "cell_type": "code",
   "execution_count": 8,
   "metadata": {},
   "outputs": [
    {
     "data": {
      "text/html": [
       "<div>\n",
       "<style scoped>\n",
       "    .dataframe tbody tr th:only-of-type {\n",
       "        vertical-align: middle;\n",
       "    }\n",
       "\n",
       "    .dataframe tbody tr th {\n",
       "        vertical-align: top;\n",
       "    }\n",
       "\n",
       "    .dataframe thead th {\n",
       "        text-align: right;\n",
       "    }\n",
       "</style>\n",
       "<table border=\"1\" class=\"dataframe\">\n",
       "  <thead>\n",
       "    <tr style=\"text-align: right;\">\n",
       "      <th></th>\n",
       "      <th>Comunas</th>\n",
       "      <th>Total Mesas</th>\n",
       "      <th>Total Electores</th>\n",
       "      <th>Total Votación</th>\n",
       "      <th>% Participación</th>\n",
       "    </tr>\n",
       "  </thead>\n",
       "  <tbody>\n",
       "    <tr>\n",
       "      <th>46</th>\n",
       "      <td>LA CALERA</td>\n",
       "      <td>131.0</td>\n",
       "      <td>44.986</td>\n",
       "      <td>24.125</td>\n",
       "      <td>53,63</td>\n",
       "    </tr>\n",
       "    <tr>\n",
       "      <th>336</th>\n",
       "      <td>CABO DE HORNOS</td>\n",
       "      <td>5.0</td>\n",
       "      <td>1.916</td>\n",
       "      <td>645.000</td>\n",
       "      <td>33,66</td>\n",
       "    </tr>\n",
       "  </tbody>\n",
       "</table>\n",
       "</div>"
      ],
      "text/plain": [
       "            Comunas  Total Mesas  Total Electores  Total Votación  \\\n",
       "46        LA CALERA        131.0           44.986          24.125   \n",
       "336  CABO DE HORNOS          5.0            1.916         645.000   \n",
       "\n",
       "    % Participación  \n",
       "46            53,63  \n",
       "336           33,66  "
      ]
     },
     "execution_count": 8,
     "metadata": {},
     "output_type": "execute_result"
    }
   ],
   "source": [
    "correcciones_servel = ['LA CALERA', 'CABO DE HORNOS']\n",
    "df_servel[df_servel['Comunas'].isin(correcciones_servel)]"
   ]
  },
  {
   "cell_type": "code",
   "execution_count": 9,
   "metadata": {},
   "outputs": [
    {
     "data": {
      "text/html": [
       "<div>\n",
       "<style scoped>\n",
       "    .dataframe tbody tr th:only-of-type {\n",
       "        vertical-align: middle;\n",
       "    }\n",
       "\n",
       "    .dataframe tbody tr th {\n",
       "        vertical-align: top;\n",
       "    }\n",
       "\n",
       "    .dataframe thead th {\n",
       "        text-align: right;\n",
       "    }\n",
       "</style>\n",
       "<table border=\"1\" class=\"dataframe\">\n",
       "  <thead>\n",
       "    <tr style=\"text-align: right;\">\n",
       "      <th></th>\n",
       "      <th>Región</th>\n",
       "      <th>Distrito constituyente</th>\n",
       "      <th>Comunas</th>\n",
       "    </tr>\n",
       "  </thead>\n",
       "  <tbody>\n",
       "    <tr>\n",
       "      <th>209</th>\n",
       "      <td>Ñuble</td>\n",
       "      <td>195 convencionales constituyentes</td>\n",
       "      <td>TREHUACO</td>\n",
       "    </tr>\n",
       "    <tr>\n",
       "      <th>333</th>\n",
       "      <td>Aysén</td>\n",
       "      <td>273 convencionales constituyentes</td>\n",
       "      <td>OHIGGINS</td>\n",
       "    </tr>\n",
       "  </tbody>\n",
       "</table>\n",
       "</div>"
      ],
      "text/plain": [
       "    Región             Distrito constituyente   Comunas\n",
       "209  Ñuble  195 convencionales constituyentes  TREHUACO\n",
       "333  Aysén  273 convencionales constituyentes  OHIGGINS"
      ]
     },
     "execution_count": 9,
     "metadata": {},
     "output_type": "execute_result"
    }
   ],
   "source": [
    "correcciones_distritos = ['TREHUACO', 'OHIGGINS']\n",
    "df_distritos[df_distritos['Comunas'].isin(correcciones_distritos)]"
   ]
  },
  {
   "cell_type": "markdown",
   "metadata": {},
   "source": [
    "Chequeo Final"
   ]
  },
  {
   "cell_type": "code",
   "execution_count": 10,
   "metadata": {},
   "outputs": [
    {
     "data": {
      "text/plain": [
       "[]"
      ]
     },
     "execution_count": 10,
     "metadata": {},
     "output_type": "execute_result"
    }
   ],
   "source": [
    "servel_comunas = list(df_servel['Comunas'])\n",
    "faltantes = list(df_distritos[~df_distritos['Comunas'].isin(servel_comunas)]['Comunas'])\n",
    "faltantes"
   ]
  },
  {
   "cell_type": "markdown",
   "metadata": {},
   "source": [
    "Corregir el nombre de \"Metropolitanade Santiago\" a \"Metropolitana de Santiago\""
   ]
  },
  {
   "cell_type": "code",
   "execution_count": 11,
   "metadata": {},
   "outputs": [],
   "source": [
    "df_distritos['Región'] = df_distritos['Región'].replace(['Metropolitanade Santiago'], 'Metropolitana de Santiago')\n",
    "df_distritos['Región'] = df_distritos['Región'].replace(['Magallanes y laAntártica Chilena'], 'Magallanes y la Antártica Chilena')"
   ]
  },
  {
   "cell_type": "markdown",
   "metadata": {},
   "source": [
    "#### Separar las datos del distrito y separar el distrito de la cantidad de constituyentes"
   ]
  },
  {
   "cell_type": "code",
   "execution_count": 12,
   "metadata": {},
   "outputs": [],
   "source": [
    "df_distritos['Distrito constituyente'] = [element[0] for element in list(df_distritos['Distrito constituyente'].str.split(' '))]\n",
    "df_distritos['Constituyentes'] = [element[-1] for element in df_distritos['Distrito constituyente']]\n",
    "df_distritos['Distrito'] = [element[0] if (len(element) == 2) else element[:2] for element in df_distritos['Distrito constituyente']]\n",
    "df_distritos.drop('Distrito constituyente', axis=1, inplace=True)"
   ]
  },
  {
   "cell_type": "markdown",
   "metadata": {},
   "source": [
    "### Unir Tablas"
   ]
  },
  {
   "cell_type": "code",
   "execution_count": 18,
   "metadata": {},
   "outputs": [],
   "source": [
    "df = df_distritos.merge(df_servel, on='Comunas', how='left', right_index=False)\n",
    "df.drop(['% Participación', 'Total Votación'], axis=1, inplace=True)"
   ]
  },
  {
   "cell_type": "markdown",
   "metadata": {},
   "source": [
    "La tabla va quedando así"
   ]
  },
  {
   "cell_type": "code",
   "execution_count": 22,
   "metadata": {},
   "outputs": [
    {
     "data": {
      "text/html": [
       "<div>\n",
       "<style scoped>\n",
       "    .dataframe tbody tr th:only-of-type {\n",
       "        vertical-align: middle;\n",
       "    }\n",
       "\n",
       "    .dataframe tbody tr th {\n",
       "        vertical-align: top;\n",
       "    }\n",
       "\n",
       "    .dataframe thead th {\n",
       "        text-align: right;\n",
       "    }\n",
       "</style>\n",
       "<table border=\"1\" class=\"dataframe\">\n",
       "  <thead>\n",
       "    <tr style=\"text-align: right;\">\n",
       "      <th></th>\n",
       "      <th>Región</th>\n",
       "      <th>Comunas</th>\n",
       "      <th>Constituyentes</th>\n",
       "      <th>Distrito</th>\n",
       "      <th>Total Mesas</th>\n",
       "      <th>Total Electores</th>\n",
       "    </tr>\n",
       "  </thead>\n",
       "  <tbody>\n",
       "    <tr>\n",
       "      <th>0</th>\n",
       "      <td>Arica y Parinacota</td>\n",
       "      <td>ARICA</td>\n",
       "      <td>3</td>\n",
       "      <td>1</td>\n",
       "      <td>522.0</td>\n",
       "      <td>180.315</td>\n",
       "    </tr>\n",
       "    <tr>\n",
       "      <th>1</th>\n",
       "      <td>Arica y Parinacota</td>\n",
       "      <td>CAMARONES</td>\n",
       "      <td>3</td>\n",
       "      <td>1</td>\n",
       "      <td>10.0</td>\n",
       "      <td>3.471</td>\n",
       "    </tr>\n",
       "    <tr>\n",
       "      <th>2</th>\n",
       "      <td>Arica y Parinacota</td>\n",
       "      <td>GENERAL LAGOS</td>\n",
       "      <td>3</td>\n",
       "      <td>1</td>\n",
       "      <td>6.0</td>\n",
       "      <td>2.158</td>\n",
       "    </tr>\n",
       "    <tr>\n",
       "      <th>3</th>\n",
       "      <td>Arica y Parinacota</td>\n",
       "      <td>PUTRE</td>\n",
       "      <td>3</td>\n",
       "      <td>1</td>\n",
       "      <td>14.0</td>\n",
       "      <td>5.554</td>\n",
       "    </tr>\n",
       "    <tr>\n",
       "      <th>4</th>\n",
       "      <td>Tarapacá</td>\n",
       "      <td>ALTO HOSPICIO</td>\n",
       "      <td>3</td>\n",
       "      <td>2</td>\n",
       "      <td>171.0</td>\n",
       "      <td>57.742</td>\n",
       "    </tr>\n",
       "    <tr>\n",
       "      <th>...</th>\n",
       "      <td>...</td>\n",
       "      <td>...</td>\n",
       "      <td>...</td>\n",
       "      <td>...</td>\n",
       "      <td>...</td>\n",
       "      <td>...</td>\n",
       "    </tr>\n",
       "    <tr>\n",
       "      <th>341</th>\n",
       "      <td>Magallanes y laAntártica Chilena</td>\n",
       "      <td>PUNTA ARENAS</td>\n",
       "      <td>3</td>\n",
       "      <td>28</td>\n",
       "      <td>397.0</td>\n",
       "      <td>122.555</td>\n",
       "    </tr>\n",
       "    <tr>\n",
       "      <th>342</th>\n",
       "      <td>Magallanes y laAntártica Chilena</td>\n",
       "      <td>RIO VERDE</td>\n",
       "      <td>3</td>\n",
       "      <td>28</td>\n",
       "      <td>2.0</td>\n",
       "      <td>771.000</td>\n",
       "    </tr>\n",
       "    <tr>\n",
       "      <th>343</th>\n",
       "      <td>Magallanes y laAntártica Chilena</td>\n",
       "      <td>SAN GREGORIO</td>\n",
       "      <td>3</td>\n",
       "      <td>28</td>\n",
       "      <td>3.0</td>\n",
       "      <td>901.000</td>\n",
       "    </tr>\n",
       "    <tr>\n",
       "      <th>344</th>\n",
       "      <td>Magallanes y laAntártica Chilena</td>\n",
       "      <td>TIMAUKEL</td>\n",
       "      <td>3</td>\n",
       "      <td>28</td>\n",
       "      <td>2.0</td>\n",
       "      <td>829.000</td>\n",
       "    </tr>\n",
       "    <tr>\n",
       "      <th>345</th>\n",
       "      <td>Magallanes y laAntártica Chilena</td>\n",
       "      <td>TORRES DEL PAINE</td>\n",
       "      <td>3</td>\n",
       "      <td>28</td>\n",
       "      <td>5.0</td>\n",
       "      <td>1.734</td>\n",
       "    </tr>\n",
       "  </tbody>\n",
       "</table>\n",
       "<p>346 rows × 6 columns</p>\n",
       "</div>"
      ],
      "text/plain": [
       "                               Región           Comunas Constituyentes  \\\n",
       "0                  Arica y Parinacota             ARICA              3   \n",
       "1                  Arica y Parinacota         CAMARONES              3   \n",
       "2                  Arica y Parinacota     GENERAL LAGOS              3   \n",
       "3                  Arica y Parinacota             PUTRE              3   \n",
       "4                            Tarapacá     ALTO HOSPICIO              3   \n",
       "..                                ...               ...            ...   \n",
       "341  Magallanes y laAntártica Chilena      PUNTA ARENAS              3   \n",
       "342  Magallanes y laAntártica Chilena         RIO VERDE              3   \n",
       "343  Magallanes y laAntártica Chilena      SAN GREGORIO              3   \n",
       "344  Magallanes y laAntártica Chilena          TIMAUKEL              3   \n",
       "345  Magallanes y laAntártica Chilena  TORRES DEL PAINE              3   \n",
       "\n",
       "    Distrito  Total Mesas  Total Electores  \n",
       "0          1        522.0          180.315  \n",
       "1          1         10.0            3.471  \n",
       "2          1          6.0            2.158  \n",
       "3          1         14.0            5.554  \n",
       "4          2        171.0           57.742  \n",
       "..       ...          ...              ...  \n",
       "341       28        397.0          122.555  \n",
       "342       28          2.0          771.000  \n",
       "343       28          3.0          901.000  \n",
       "344       28          2.0          829.000  \n",
       "345       28          5.0            1.734  \n",
       "\n",
       "[346 rows x 6 columns]"
      ]
     },
     "execution_count": 22,
     "metadata": {},
     "output_type": "execute_result"
    }
   ],
   "source": [
    "df"
   ]
  },
  {
   "cell_type": "markdown",
   "metadata": {},
   "source": [
    "___________________________________________________________"
   ]
  },
  {
   "cell_type": "markdown",
   "metadata": {},
   "source": [
    "# Data Wrangling Geomap\n",
    "\n",
    "Los datos para poder usar el mapa vectorial fueron descargados desde <a href=\"https://www.bcn.cl/siit/mapas_vectoriales\">Biblioteca del Congreso Nacional de Chile</a>."
   ]
  },
  {
   "cell_type": "code",
   "execution_count": 15,
   "metadata": {},
   "outputs": [],
   "source": [
    "import geopandas as gpd"
   ]
  },
  {
   "cell_type": "code",
   "execution_count": 25,
   "metadata": {},
   "outputs": [],
   "source": [
    "path = '/home/anonimo/Documentos/servel/geomap/'\n",
    "file_name = 'comunas.dbf'\n",
    "\n",
    "tabla = gpd.read_file(path+file_name)\n",
    "tabla_geomap = pd.DataFrame(tabla)"
   ]
  },
  {
   "cell_type": "code",
   "execution_count": 24,
   "metadata": {},
   "outputs": [
    {
     "data": {
      "text/html": [
       "<div>\n",
       "<style scoped>\n",
       "    .dataframe tbody tr th:only-of-type {\n",
       "        vertical-align: middle;\n",
       "    }\n",
       "\n",
       "    .dataframe tbody tr th {\n",
       "        vertical-align: top;\n",
       "    }\n",
       "\n",
       "    .dataframe thead th {\n",
       "        text-align: right;\n",
       "    }\n",
       "</style>\n",
       "<table border=\"1\" class=\"dataframe\">\n",
       "  <thead>\n",
       "    <tr style=\"text-align: right;\">\n",
       "      <th></th>\n",
       "      <th>Región</th>\n",
       "      <th>Comunas</th>\n",
       "      <th>Constituyentes</th>\n",
       "      <th>Distrito</th>\n",
       "      <th>Total Mesas</th>\n",
       "      <th>Total Electores</th>\n",
       "    </tr>\n",
       "  </thead>\n",
       "  <tbody>\n",
       "    <tr>\n",
       "      <th>12</th>\n",
       "      <td>Antofagasta</td>\n",
       "      <td>MARIA ELENA</td>\n",
       "      <td>4</td>\n",
       "      <td>3</td>\n",
       "      <td>17.0</td>\n",
       "      <td>6.451</td>\n",
       "    </tr>\n",
       "    <tr>\n",
       "      <th>128</th>\n",
       "      <td>Metropolitana de Santiago</td>\n",
       "      <td>MARIA PINTO</td>\n",
       "      <td>5</td>\n",
       "      <td>14</td>\n",
       "      <td>33.0</td>\n",
       "      <td>11.262</td>\n",
       "    </tr>\n",
       "    <tr>\n",
       "      <th>157</th>\n",
       "      <td>O'Higgins</td>\n",
       "      <td>MARCHIGUE</td>\n",
       "      <td>4</td>\n",
       "      <td>16</td>\n",
       "      <td>22.0</td>\n",
       "      <td>6.787</td>\n",
       "    </tr>\n",
       "    <tr>\n",
       "      <th>286</th>\n",
       "      <td>Los Ríos</td>\n",
       "      <td>MARIQUINA</td>\n",
       "      <td>4</td>\n",
       "      <td>24</td>\n",
       "      <td>61.0</td>\n",
       "      <td>18.622</td>\n",
       "    </tr>\n",
       "  </tbody>\n",
       "</table>\n",
       "</div>"
      ],
      "text/plain": [
       "                        Región      Comunas Constituyentes Distrito  \\\n",
       "12                 Antofagasta  MARIA ELENA              4        3   \n",
       "128  Metropolitana de Santiago  MARIA PINTO              5       14   \n",
       "157                  O'Higgins    MARCHIGUE              4       16   \n",
       "286                   Los Ríos    MARIQUINA              4       24   \n",
       "\n",
       "     Total Mesas  Total Electores  \n",
       "12          17.0            6.451  \n",
       "128         33.0           11.262  \n",
       "157         22.0            6.787  \n",
       "286         61.0           18.622  "
      ]
     },
     "execution_count": 24,
     "metadata": {},
     "output_type": "execute_result"
    }
   ],
   "source": [
    "df[df['Comunas'].str.startswith('MAR')]"
   ]
  },
  {
   "cell_type": "code",
   "execution_count": 26,
   "metadata": {},
   "outputs": [
    {
     "data": {
      "text/html": [
       "<div>\n",
       "<style scoped>\n",
       "    .dataframe tbody tr th:only-of-type {\n",
       "        vertical-align: middle;\n",
       "    }\n",
       "\n",
       "    .dataframe tbody tr th {\n",
       "        vertical-align: top;\n",
       "    }\n",
       "\n",
       "    .dataframe thead th {\n",
       "        text-align: right;\n",
       "    }\n",
       "</style>\n",
       "<table border=\"1\" class=\"dataframe\">\n",
       "  <thead>\n",
       "    <tr style=\"text-align: right;\">\n",
       "      <th></th>\n",
       "      <th>objectid</th>\n",
       "      <th>shape_leng</th>\n",
       "      <th>dis_elec</th>\n",
       "      <th>cir_sena</th>\n",
       "      <th>cod_comuna</th>\n",
       "      <th>codregion</th>\n",
       "      <th>st_area_sh</th>\n",
       "      <th>st_length_</th>\n",
       "      <th>Region</th>\n",
       "      <th>Comuna</th>\n",
       "      <th>Provincia</th>\n",
       "      <th>geometry</th>\n",
       "    </tr>\n",
       "  </thead>\n",
       "  <tbody>\n",
       "    <tr>\n",
       "      <th>0</th>\n",
       "      <td>48</td>\n",
       "      <td>170038.624165</td>\n",
       "      <td>16</td>\n",
       "      <td>8</td>\n",
       "      <td>6204</td>\n",
       "      <td>6</td>\n",
       "      <td>9.685774e+08</td>\n",
       "      <td>206184.271675</td>\n",
       "      <td>Región del Libertador Bernardo O'Higgins</td>\n",
       "      <td>Marchigüe</td>\n",
       "      <td>Cardenal Caro</td>\n",
       "      <td>POLYGON ((-7992818.789 -4056669.319, -7992731....</td>\n",
       "    </tr>\n",
       "    <tr>\n",
       "      <th>1</th>\n",
       "      <td>29</td>\n",
       "      <td>125730.104795</td>\n",
       "      <td>15</td>\n",
       "      <td>8</td>\n",
       "      <td>6102</td>\n",
       "      <td>6</td>\n",
       "      <td>4.157446e+08</td>\n",
       "      <td>151911.576827</td>\n",
       "      <td>Región del Libertador Bernardo O'Higgins</td>\n",
       "      <td>Codegua</td>\n",
       "      <td>Cachapoal</td>\n",
       "      <td>POLYGON ((-7831651.813 -4022443.109, -7831596....</td>\n",
       "    </tr>\n",
       "    <tr>\n",
       "      <th>2</th>\n",
       "      <td>30</td>\n",
       "      <td>63026.084422</td>\n",
       "      <td>15</td>\n",
       "      <td>8</td>\n",
       "      <td>6103</td>\n",
       "      <td>6</td>\n",
       "      <td>1.448565e+08</td>\n",
       "      <td>76355.326122</td>\n",
       "      <td>Región del Libertador Bernardo O'Higgins</td>\n",
       "      <td>Coinco</td>\n",
       "      <td>Cachapoal</td>\n",
       "      <td>POLYGON ((-7892616.357 -4060673.364, -7892621....</td>\n",
       "    </tr>\n",
       "    <tr>\n",
       "      <th>3</th>\n",
       "      <td>31</td>\n",
       "      <td>89840.903562</td>\n",
       "      <td>15</td>\n",
       "      <td>8</td>\n",
       "      <td>6104</td>\n",
       "      <td>6</td>\n",
       "      <td>3.256572e+08</td>\n",
       "      <td>108874.623150</td>\n",
       "      <td>Región del Libertador Bernardo O'Higgins</td>\n",
       "      <td>Coltauco</td>\n",
       "      <td>Cachapoal</td>\n",
       "      <td>POLYGON ((-7906457.717 -4051723.734, -7906266....</td>\n",
       "    </tr>\n",
       "    <tr>\n",
       "      <th>4</th>\n",
       "      <td>78</td>\n",
       "      <td>122626.493264</td>\n",
       "      <td>23</td>\n",
       "      <td>11</td>\n",
       "      <td>9121</td>\n",
       "      <td>9</td>\n",
       "      <td>6.990727e+08</td>\n",
       "      <td>156680.410681</td>\n",
       "      <td>Región de La Araucanía</td>\n",
       "      <td>Cholchol</td>\n",
       "      <td>Cautín</td>\n",
       "      <td>POLYGON ((-8121756.186 -4645860.295, -8121644....</td>\n",
       "    </tr>\n",
       "    <tr>\n",
       "      <th>...</th>\n",
       "      <td>...</td>\n",
       "      <td>...</td>\n",
       "      <td>...</td>\n",
       "      <td>...</td>\n",
       "      <td>...</td>\n",
       "      <td>...</td>\n",
       "      <td>...</td>\n",
       "      <td>...</td>\n",
       "      <td>...</td>\n",
       "      <td>...</td>\n",
       "      <td>...</td>\n",
       "      <td>...</td>\n",
       "    </tr>\n",
       "    <tr>\n",
       "      <th>341</th>\n",
       "      <td>255</td>\n",
       "      <td>130240.555805</td>\n",
       "      <td>19</td>\n",
       "      <td>10</td>\n",
       "      <td>16305</td>\n",
       "      <td>16</td>\n",
       "      <td>8.751006e+08</td>\n",
       "      <td>160459.137929</td>\n",
       "      <td>Región de Ñuble</td>\n",
       "      <td>San Nicolás</td>\n",
       "      <td>Punilla</td>\n",
       "      <td>POLYGON ((-8041950.854 -4349201.562, -8041735....</td>\n",
       "    </tr>\n",
       "    <tr>\n",
       "      <th>342</th>\n",
       "      <td>253</td>\n",
       "      <td>311061.932415</td>\n",
       "      <td>19</td>\n",
       "      <td>10</td>\n",
       "      <td>16304</td>\n",
       "      <td>16</td>\n",
       "      <td>2.393007e+09</td>\n",
       "      <td>388109.613857</td>\n",
       "      <td>Región de Ñuble</td>\n",
       "      <td>San Fabián</td>\n",
       "      <td>Punilla</td>\n",
       "      <td>POLYGON ((-7931328.549 -4363544.179, -7931320....</td>\n",
       "    </tr>\n",
       "    <tr>\n",
       "      <th>343</th>\n",
       "      <td>245</td>\n",
       "      <td>159257.906431</td>\n",
       "      <td>19</td>\n",
       "      <td>10</td>\n",
       "      <td>16303</td>\n",
       "      <td>16</td>\n",
       "      <td>7.638173e+08</td>\n",
       "      <td>195593.933727</td>\n",
       "      <td>Región de Ñuble</td>\n",
       "      <td>Ñiquén</td>\n",
       "      <td>Punilla</td>\n",
       "      <td>POLYGON ((-8026032.185 -4319505.012, -8025933....</td>\n",
       "    </tr>\n",
       "    <tr>\n",
       "      <th>344</th>\n",
       "      <td>243</td>\n",
       "      <td>157467.049667</td>\n",
       "      <td>19</td>\n",
       "      <td>10</td>\n",
       "      <td>16104</td>\n",
       "      <td>16</td>\n",
       "      <td>1.044405e+09</td>\n",
       "      <td>196962.664313</td>\n",
       "      <td>Región de Ñuble</td>\n",
       "      <td>El Carmen</td>\n",
       "      <td>Ñuble</td>\n",
       "      <td>POLYGON ((-7986315.104 -4415272.935, -7986309....</td>\n",
       "    </tr>\n",
       "    <tr>\n",
       "      <th>345</th>\n",
       "      <td>242</td>\n",
       "      <td>276848.826499</td>\n",
       "      <td>19</td>\n",
       "      <td>10</td>\n",
       "      <td>16302</td>\n",
       "      <td>16</td>\n",
       "      <td>2.764576e+09</td>\n",
       "      <td>346671.611064</td>\n",
       "      <td>Región de Ñuble</td>\n",
       "      <td>Coihueco</td>\n",
       "      <td>Punilla</td>\n",
       "      <td>POLYGON ((-7927593.046 -4435376.051, -7927638....</td>\n",
       "    </tr>\n",
       "  </tbody>\n",
       "</table>\n",
       "<p>346 rows × 12 columns</p>\n",
       "</div>"
      ],
      "text/plain": [
       "     objectid     shape_leng  dis_elec  cir_sena  cod_comuna  codregion  \\\n",
       "0          48  170038.624165        16         8        6204          6   \n",
       "1          29  125730.104795        15         8        6102          6   \n",
       "2          30   63026.084422        15         8        6103          6   \n",
       "3          31   89840.903562        15         8        6104          6   \n",
       "4          78  122626.493264        23        11        9121          9   \n",
       "..        ...            ...       ...       ...         ...        ...   \n",
       "341       255  130240.555805        19        10       16305         16   \n",
       "342       253  311061.932415        19        10       16304         16   \n",
       "343       245  159257.906431        19        10       16303         16   \n",
       "344       243  157467.049667        19        10       16104         16   \n",
       "345       242  276848.826499        19        10       16302         16   \n",
       "\n",
       "       st_area_sh     st_length_                                    Region  \\\n",
       "0    9.685774e+08  206184.271675  Región del Libertador Bernardo O'Higgins   \n",
       "1    4.157446e+08  151911.576827  Región del Libertador Bernardo O'Higgins   \n",
       "2    1.448565e+08   76355.326122  Región del Libertador Bernardo O'Higgins   \n",
       "3    3.256572e+08  108874.623150  Región del Libertador Bernardo O'Higgins   \n",
       "4    6.990727e+08  156680.410681                    Región de La Araucanía   \n",
       "..            ...            ...                                       ...   \n",
       "341  8.751006e+08  160459.137929                           Región de Ñuble   \n",
       "342  2.393007e+09  388109.613857                           Región de Ñuble   \n",
       "343  7.638173e+08  195593.933727                           Región de Ñuble   \n",
       "344  1.044405e+09  196962.664313                           Región de Ñuble   \n",
       "345  2.764576e+09  346671.611064                           Región de Ñuble   \n",
       "\n",
       "          Comuna      Provincia  \\\n",
       "0      Marchigüe  Cardenal Caro   \n",
       "1        Codegua      Cachapoal   \n",
       "2         Coinco      Cachapoal   \n",
       "3       Coltauco      Cachapoal   \n",
       "4       Cholchol         Cautín   \n",
       "..           ...            ...   \n",
       "341  San Nicolás        Punilla   \n",
       "342   San Fabián        Punilla   \n",
       "343       Ñiquén        Punilla   \n",
       "344    El Carmen          Ñuble   \n",
       "345     Coihueco        Punilla   \n",
       "\n",
       "                                              geometry  \n",
       "0    POLYGON ((-7992818.789 -4056669.319, -7992731....  \n",
       "1    POLYGON ((-7831651.813 -4022443.109, -7831596....  \n",
       "2    POLYGON ((-7892616.357 -4060673.364, -7892621....  \n",
       "3    POLYGON ((-7906457.717 -4051723.734, -7906266....  \n",
       "4    POLYGON ((-8121756.186 -4645860.295, -8121644....  \n",
       "..                                                 ...  \n",
       "341  POLYGON ((-8041950.854 -4349201.562, -8041735....  \n",
       "342  POLYGON ((-7931328.549 -4363544.179, -7931320....  \n",
       "343  POLYGON ((-8026032.185 -4319505.012, -8025933....  \n",
       "344  POLYGON ((-7986315.104 -4415272.935, -7986309....  \n",
       "345  POLYGON ((-7927593.046 -4435376.051, -7927638....  \n",
       "\n",
       "[346 rows x 12 columns]"
      ]
     },
     "execution_count": 26,
     "metadata": {},
     "output_type": "execute_result"
    }
   ],
   "source": [
    "tabla_geomap"
   ]
  },
  {
   "cell_type": "code",
   "execution_count": null,
   "metadata": {},
   "outputs": [],
   "source": []
  }
 ],
 "metadata": {
  "kernelspec": {
   "display_name": "Python 3",
   "language": "python",
   "name": "python3"
  },
  "language_info": {
   "codemirror_mode": {
    "name": "ipython",
    "version": 3
   },
   "file_extension": ".py",
   "mimetype": "text/x-python",
   "name": "python",
   "nbconvert_exporter": "python",
   "pygments_lexer": "ipython3",
   "version": "3.8.3"
  }
 },
 "nbformat": 4,
 "nbformat_minor": 4
}
